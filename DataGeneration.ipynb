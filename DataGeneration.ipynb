{
 "cells": [
  {
   "cell_type": "code",
   "execution_count": 11,
   "metadata": {},
   "outputs": [],
   "source": [
    "from scipy.stats import zipf\n",
    "import matplotlib.pyplot as plt\n",
    "\n",
    "a = 1.1\n",
    "s = zipf.rvs(a, size=10**6)"
   ]
  },
  {
   "cell_type": "code",
   "execution_count": 17,
   "metadata": {},
   "outputs": [
    {
     "data": {
      "image/png": "[encoded data removed]",
      "text/plain": [
       "<Figure size 432x288 with 1 Axes>"
      ]
     },
     "metadata": {
      "needs_background": "light"
     },
     "output_type": "display_data"
    }
   ],
   "source": [
    "import matplotlib.pyplot as plt\n",
    "from scipy import special\n",
    "import numpy as np\n",
    "\n",
    "count, bins, ignored = plt.hist(s[s<50], 50)\n",
    "x = np.arange(1., 50.)\n",
    "y = x**(-a) / special.zetac(a)\n",
    "plt.show()"
   ]
  },
  {
   "cell_type": "code",
   "execution_count": 25,
   "metadata": {},
   "outputs": [],
   "source": [
    "np.savetxt(\"zipf_z1.1.txt\", s, fmt=\"%d\")"
   ]
  },
  {
   "cell_type": "code",
   "execution_count": 24,
   "metadata": {},
   "outputs": [
    {
     "name": "stdout",
     "output_type": "stream",
     "text": [
      "2^64:               18446744073709551616\n",
      "max item in stream: 9221826171135343616\n",
      "stream length: 1000000\n"
     ]
    }
   ],
   "source": [
    "print(\"2^64:               \" + str(2**64))\n",
    "print(\"max item in stream: \" + str(max(s)))\n",
    "print(\"stream length: \" + str(len(s)))"
   ]
  },
  {
   "cell_type": "code",
   "execution_count": null,
   "metadata": {},
   "outputs": [],
   "source": []
  }
 ],
 "metadata": {
  "kernelspec": {
   "display_name": "Python 3",
   "language": "python",
   "name": "python3"
  },
  "language_info": {
   "codemirror_mode": {
    "name": "ipython",
    "version": 3
   },
   "file_extension": ".py",
   "mimetype": "text/x-python",
   "name": "python",
   "nbconvert_exporter": "python",
   "pygments_lexer": "ipython3",
   "version": "3.8.3"
  }
 },
 "nbformat": 4,
 "nbformat_minor": 4
}
